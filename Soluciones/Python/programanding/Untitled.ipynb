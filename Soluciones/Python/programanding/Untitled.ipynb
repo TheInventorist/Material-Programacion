{
 "cells": [
  {
   "cell_type": "code",
   "execution_count": 3,
   "metadata": {},
   "outputs": [
    {
     "name": "stdout",
     "output_type": "stream",
     "text": [
      "Ingrese su nombre: Marcus\n",
      "Hola Marcus\n"
     ]
    }
   ],
   "source": [
    "nombre = input(\"Ingrese su nombre: \")\n",
    "print(\"Hola\" , nombre)"
   ]
  },
  {
   "cell_type": "code",
   "execution_count": 4,
   "metadata": {},
   "outputs": [
    {
     "name": "stdout",
     "output_type": "stream",
     "text": [
      "Ingrese su nombre: Edward\n",
      "Ingrese su apellido: Elric\n",
      "Bienvenido, Edward Elric\n"
     ]
    }
   ],
   "source": [
    "nombre = input(\"Ingrese su nombre: \")\n",
    "apellido = input(\"Ingrese su apellido: \")\n",
    "print(\"Bienvenido,\" , nombre, apellido)"
   ]
  },
  {
   "cell_type": "code",
   "execution_count": 10,
   "metadata": {},
   "outputs": [
    {
     "name": "stdout",
     "output_type": "stream",
     "text": [
      "Ingrese numero 1: 44\n",
      "Ingrese numero 1: 32\n",
      "Ingrese numero 1: 67\n",
      "El total es: 143 y su promedio es:  47.67\n"
     ]
    }
   ],
   "source": [
    "n1 = int(input(\"Ingrese numero 1: \"))\n",
    "n2 = int(input(\"Ingrese numero 1: \"))\n",
    "n3 = int(input(\"Ingrese numero 1: \"))\n",
    "print(\"El total es:\" , (n1+n2+n3) , \"y su promedio es: \" , float( \"%.2f\" % ((n1+n2+n3)/3)))         "
   ]
  },
  {
   "cell_type": "code",
   "execution_count": 32,
   "metadata": {},
   "outputs": [
    {
     "name": "stdout",
     "output_type": "stream",
     "text": [
      "Ingrese numero: 123213.87173982173\n",
      "Parte entera: 123213\n",
      "Parte decimal: 0.8717398217268055\n"
     ]
    }
   ],
   "source": [
    "numero = float(input(\"Ingrese numero: \"))\n",
    "print(\"Parte entera:\", int(numero))\n",
    "print(\"Parte decimal:\", float((numero - int(numero))))\n"
   ]
  },
  {
   "cell_type": "code",
   "execution_count": 34,
   "metadata": {},
   "outputs": [
    {
     "name": "stdout",
     "output_type": "stream",
     "text": [
      "Ingrese oracion: asd\n",
      "Oracion en mayuscula: ASD\n",
      "Oracion en minuscula: asd\n"
     ]
    }
   ],
   "source": [
    "oracion = input(\"Ingrese oracion: \")\n",
    "print(\"Oracion en mayuscula: \" + oracion.upper())\n",
    "print(\"Oracion en minuscula: \" + oracion.lower())"
   ]
  },
  {
   "cell_type": "code",
   "execution_count": 35,
   "metadata": {},
   "outputs": [
    {
     "name": "stdout",
     "output_type": "stream",
     "text": [
      "Ingrese caracter: a\n",
      "97\n"
     ]
    }
   ],
   "source": [
    "caracter = input(\"Ingrese caracter: \")\n",
    "print(ord(caracter))"
   ]
  },
  {
   "cell_type": "code",
   "execution_count": 37,
   "metadata": {},
   "outputs": [
    {
     "name": "stdout",
     "output_type": "stream",
     "text": [
      "Ingrese numero: 1995\n",
      "3980025\n"
     ]
    }
   ],
   "source": [
    "numero = int(input(\"Ingrese numero: \"))\n",
    "print(numero ** 2)"
   ]
  },
  {
   "cell_type": "code",
   "execution_count": 43,
   "metadata": {},
   "outputs": [
    {
     "name": "stdout",
     "output_type": "stream",
     "text": [
      "Ingrese grados Celsius: 50\n",
      "Grados en Fahrenheit: 122.0\n"
     ]
    }
   ],
   "source": [
    "grados = int(input(\"Ingrese grados Celsius: \"))\n",
    "print(\"Grados en Fahrenheit:\", ((grados * 9/5) + 32))"
   ]
  },
  {
   "cell_type": "code",
   "execution_count": null,
   "metadata": {},
   "outputs": [],
   "source": []
  },
  {
   "cell_type": "code",
   "execution_count": null,
   "metadata": {},
   "outputs": [],
   "source": []
  }
 ],
 "metadata": {
  "kernelspec": {
   "display_name": "Python 3",
   "language": "python",
   "name": "python3"
  },
  "language_info": {
   "codemirror_mode": {
    "name": "ipython",
    "version": 3
   },
   "file_extension": ".py",
   "mimetype": "text/x-python",
   "name": "python",
   "nbconvert_exporter": "python",
   "pygments_lexer": "ipython3",
   "version": "3.7.1"
  }
 },
 "nbformat": 4,
 "nbformat_minor": 2
}
